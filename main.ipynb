{
 "cells": [
  {
   "cell_type": "markdown",
   "metadata": {},
   "source": [
    "# Импорты"
   ]
  },
  {
   "cell_type": "code",
   "execution_count": 1,
   "metadata": {},
   "outputs": [],
   "source": [
    "import pandas as pd\n",
    "import numpy as np\n",
    "from sklearn.model_selection import train_test_split, KFold\n",
    "from tqdm import tqdm\n",
    "from scipy.special import softmax, expit\n",
    "import torch\n",
    "\n",
    "# models\n",
    "from lightgbm import LGBMClassifier\n",
    "from catboost import CatBoostClassifier\n",
    "from xgboost import XGBClassifier\n",
    "from sklearn.ensemble import RandomForestClassifier\n",
    "from sklearn.linear_model import LogisticRegression\n",
    "from sklearn import svm\n",
    "\n",
    "# preproccessing\n",
    "from sklearn.preprocessing import LabelBinarizer, OneHotEncoder, TargetEncoder\n",
    "\n",
    "# metric\n",
    "from sklearn.metrics import roc_auc_score\n",
    "\n",
    "# visualisation\n",
    "import matplotlib.pyplot as plt\n",
    "import seaborn as sns"
   ]
  },
  {
   "cell_type": "markdown",
   "metadata": {},
   "source": [
    "# Предобработка данных"
   ]
  },
  {
   "cell_type": "code",
   "execution_count": 2,
   "metadata": {},
   "outputs": [
    {
     "name": "stderr",
     "output_type": "stream",
     "text": [
      "/var/folders/hk/5434dpv95nl2rxl497d7c0lm0000gn/T/ipykernel_6013/4218206482.py:1: DtypeWarning: Columns (0) have mixed types. Specify dtype option on import or set low_memory=False.\n",
      "  data = pd.read_csv('./data/train.csv')\n"
     ]
    }
   ],
   "source": [
    "data = pd.read_csv('./data/train.csv')\n",
    "data_test = pd.read_csv('./data/test.csv')"
   ]
  },
  {
   "cell_type": "code",
   "execution_count": 3,
   "metadata": {},
   "outputs": [
    {
     "name": "stderr",
     "output_type": "stream",
     "text": [
      "/var/folders/hk/5434dpv95nl2rxl497d7c0lm0000gn/T/ipykernel_6013/4265989800.py:1: DtypeWarning: Columns (0) have mixed types. Specify dtype option on import or set low_memory=False.\n",
      "  data = pd.read_csv('./data/train.csv')\n",
      "/Users/artemon/.local/share/virtualenvs/Binary_Classification_4-1-VzDaJ6La/lib/python3.11/site-packages/sklearn/preprocessing/_label.py:114: DataConversionWarning: A column-vector y was passed when a 1d array was expected. Please change the shape of y to (n_samples, ), for example using ravel().\n",
      "  y = column_or_1d(y, warn=True)\n"
     ]
    }
   ],
   "source": [
    "data = pd.read_csv('./data/train.csv')\n",
    "data_test = pd.read_csv('./data/test.csv')\n",
    "\n",
    "data['IsActiveMember'] = data['IsActiveMember'].astype(int)\n",
    "data['HasCrCard'] = data['HasCrCard'].astype(int)\n",
    "\n",
    "binaraiser = LabelBinarizer()\n",
    "data['Gender'] = binaraiser.fit_transform(data['Gender'])\n",
    "data_test['Gender'] = binaraiser.transform(data_test['Gender'])\n",
    "\n",
    "targeter = TargetEncoder()\n",
    "data['Surname'] = targeter.fit_transform(data['Surname'].values.reshape(\n",
    "    (-1, 1)), data['Exited'].values.reshape((-1, 1)))\n",
    "data_test['Surname'] = targeter.transform(\n",
    "    data_test['Surname'].values.reshape((-1, 1)))\n",
    "\n",
    "ohenc = OneHotEncoder(sparse_output=False).set_output(transform='pandas')\n",
    "data[['x0_France', 'x0_Germany', 'x0_Spain']] = ohenc.fit_transform(\n",
    "    data['Geography'].values.reshape((-1, 1)))\n",
    "data_test[['x0_France', 'x0_Germany', 'x0_Spain']] = ohenc.transform(\n",
    "    data_test['Geography'].values.reshape((-1, 1)))\n",
    "\n",
    "data['Geography'] = data['Geography'].map(\n",
    "    {'France': 0, 'Spain': 1, 'Germany': 2})\n",
    "data_test['Geography'] = data_test['Geography'].map(\n",
    "    {'France': 0, 'Spain': 1, 'Germany': 2})"
   ]
  },
  {
   "cell_type": "markdown",
   "metadata": {},
   "source": [
    "# Тест LightGBM"
   ]
  },
  {
   "cell_type": "code",
   "execution_count": 69,
   "metadata": {},
   "outputs": [
    {
     "name": "stdout",
     "output_type": "stream",
     "text": [
      "[LightGBM] [Info] Number of positive: 27966, number of negative: 104061\n",
      "[LightGBM] [Info] Auto-choosing row-wise multi-threading, the overhead of testing was 0.001136 seconds.\n",
      "You can set `force_row_wise=true` to remove the overhead.\n",
      "And if memory is not enough, you can set `force_col_wise=true`.\n",
      "[LightGBM] [Info] Total Bins 1114\n",
      "[LightGBM] [Info] Number of data points in the train set: 132027, number of used features: 11\n",
      "[LightGBM] [Info] [binary:BoostFromScore]: pavg=0.211820 -> initscore=-1.313988\n",
      "[LightGBM] [Info] Start training from score -1.313988\n"
     ]
    },
    {
     "data": {
      "text/plain": [
       "0.8958405563479025"
      ]
     },
     "execution_count": 69,
     "metadata": {},
     "output_type": "execute_result"
    }
   ],
   "source": [
    "X_train, X_test, y_train, y_test = train_test_split(data.drop(\n",
    "    columns=['id', 'Exited', 'CustomerId', 'x0_France', 'x0_Germany', 'x0_Spain']), data['Exited'], test_size=0.2, random_state=42)\n",
    "\n",
    "model = LGBMClassifier(n_estimators=150, random_state=42)\n",
    "model.fit(X_train, y_train)\n",
    "probs = model.predict_proba(X_test)[:, 1]\n",
    "roc_auc_score(y_test, probs)"
   ]
  },
  {
   "cell_type": "code",
   "execution_count": 70,
   "metadata": {},
   "outputs": [
    {
     "name": "stdout",
     "output_type": "stream",
     "text": [
      "[LightGBM] [Info] Number of positive: 27966, number of negative: 104061\n",
      "[LightGBM] [Info] Auto-choosing row-wise multi-threading, the overhead of testing was 0.001356 seconds.\n",
      "You can set `force_row_wise=true` to remove the overhead.\n",
      "And if memory is not enough, you can set `force_col_wise=true`.\n",
      "[LightGBM] [Info] Total Bins 1117\n",
      "[LightGBM] [Info] Number of data points in the train set: 132027, number of used features: 13\n",
      "[LightGBM] [Info] [binary:BoostFromScore]: pavg=0.211820 -> initscore=-1.313988\n",
      "[LightGBM] [Info] Start training from score -1.313988\n"
     ]
    },
    {
     "data": {
      "text/plain": [
       "0.8959745139483792"
      ]
     },
     "execution_count": 70,
     "metadata": {},
     "output_type": "execute_result"
    }
   ],
   "source": [
    "X_train, X_test, y_train, y_test = train_test_split(data.drop(\n",
    "    columns=['id', 'Exited', 'CustomerId', 'Geography']), data['Exited'], test_size=0.2, random_state=42)\n",
    "\n",
    "model = LGBMClassifier(n_estimators=150, random_state=42)\n",
    "model.fit(X_train, y_train)\n",
    "probs = model.predict_proba(X_test)[:, 1]\n",
    "roc_auc_score(y_test, probs)"
   ]
  },
  {
   "cell_type": "markdown",
   "metadata": {},
   "source": [
    "Получаем, что OneHot клдирование работает немного лучше\n",
    "Посмотрим на то, как алгоритм себя поведет в принципе не зная страны"
   ]
  },
  {
   "cell_type": "code",
   "execution_count": 71,
   "metadata": {},
   "outputs": [
    {
     "name": "stdout",
     "output_type": "stream",
     "text": [
      "[LightGBM] [Info] Number of positive: 27966, number of negative: 104061\n",
      "[LightGBM] [Info] Auto-choosing row-wise multi-threading, the overhead of testing was 0.001162 seconds.\n",
      "You can set `force_row_wise=true` to remove the overhead.\n",
      "And if memory is not enough, you can set `force_col_wise=true`.\n",
      "[LightGBM] [Info] Total Bins 1111\n",
      "[LightGBM] [Info] Number of data points in the train set: 132027, number of used features: 10\n",
      "[LightGBM] [Info] [binary:BoostFromScore]: pavg=0.211820 -> initscore=-1.313988\n",
      "[LightGBM] [Info] Start training from score -1.313988\n"
     ]
    },
    {
     "data": {
      "text/plain": [
       "0.8875947160040369"
      ]
     },
     "execution_count": 71,
     "metadata": {},
     "output_type": "execute_result"
    }
   ],
   "source": [
    "X_train, X_test, y_train, y_test = train_test_split(data.drop(\n",
    "    columns=['id', 'Exited', 'CustomerId', 'Geography', 'x0_France', 'x0_Germany', 'x0_Spain']), data['Exited'], test_size=0.2, random_state=42)\n",
    "\n",
    "model = LGBMClassifier(n_estimators=150, random_state=42)\n",
    "model.fit(X_train, y_train)\n",
    "probs = model.predict_proba(X_test)[:, 1]\n",
    "roc_auc_score(y_test, probs)"
   ]
  },
  {
   "cell_type": "markdown",
   "metadata": {},
   "source": [
    "Без знания региона качество падает"
   ]
  },
  {
   "cell_type": "markdown",
   "metadata": {},
   "source": [
    "### CV тест"
   ]
  },
  {
   "cell_type": "code",
   "execution_count": 178,
   "metadata": {},
   "outputs": [
    {
     "name": "stderr",
     "output_type": "stream",
     "text": [
      "100%|██████████| 10/10 [00:13<00:00,  1.37s/it]\n"
     ]
    }
   ],
   "source": [
    "X = data.drop(columns=['id', 'CustomerId', 'Exited', 'Geography'])\n",
    "y = data['Exited']\n",
    "cv_folds = KFold(n_splits=10, shuffle=True, random_state=42)\n",
    "\n",
    "l = []\n",
    "\n",
    "for (train_index, test_index) in tqdm(cv_folds.split(X), total=10):\n",
    "    X_train, y_train = X.iloc[train_index, :], y.iloc[train_index]\n",
    "    X_test, y_test = X.iloc[test_index, :], y.iloc[test_index]\n",
    "\n",
    "    model = LGBMClassifier(n_estimators=200, max_depth=-1,\n",
    "                           learning_rate=0.1, random_state=42, verbose=-1)\n",
    "    model.fit(X_train, y_train)\n",
    "    probs = model.predict_proba(X_test)[:, 1]\n",
    "    l.append(roc_auc_score(y_test, probs))"
   ]
  },
  {
   "cell_type": "code",
   "execution_count": 182,
   "metadata": {},
   "outputs": [
    {
     "data": {
      "text/plain": [
       "0.8936344746714712"
      ]
     },
     "execution_count": 182,
     "metadata": {},
     "output_type": "execute_result"
    }
   ],
   "source": [
    "np.array(l).mean()"
   ]
  },
  {
   "cell_type": "markdown",
   "metadata": {},
   "source": [
    "# Тест CatBoost"
   ]
  },
  {
   "cell_type": "code",
   "execution_count": 213,
   "metadata": {},
   "outputs": [
    {
     "name": "stderr",
     "output_type": "stream",
     "text": [
      "100%|██████████| 10/10 [04:20<00:00, 26.02s/it]\n"
     ]
    }
   ],
   "source": [
    "X = data.drop(columns=['id', 'Exited', 'CustomerId',\n",
    "              'x0_France', 'x0_Germany', 'x0_Spain'])\n",
    "y = data['Exited']\n",
    "cv_folds = KFold(n_splits=10, shuffle=True, random_state=42)\n",
    "\n",
    "l = []\n",
    "\n",
    "for (train_index, test_index) in tqdm(cv_folds.split(X), total=10):\n",
    "    X_train, y_train = X.iloc[train_index, :], y.iloc[train_index]\n",
    "    X_test, y_test = X.iloc[test_index, :], y.iloc[test_index]\n",
    "\n",
    "    model = CatBoostClassifier(\n",
    "        iterations=800, max_depth=3, random_seed=42, silent=True)\n",
    "    model.fit(X_train, y_train, cat_features=[\n",
    "              'Geography', 'Gender', 'Tenure', 'NumOfProducts', 'HasCrCard', 'IsActiveMember'])\n",
    "    probs = model.predict_proba(X_test)[:, 1]\n",
    "    l.append(roc_auc_score(y_test, probs))"
   ]
  },
  {
   "cell_type": "code",
   "execution_count": 215,
   "metadata": {},
   "outputs": [
    {
     "data": {
      "text/plain": [
       "0.8938231982947282"
      ]
     },
     "execution_count": 215,
     "metadata": {},
     "output_type": "execute_result"
    }
   ],
   "source": [
    "np.array(l).mean()"
   ]
  },
  {
   "cell_type": "markdown",
   "metadata": {},
   "source": [
    "# Random Forest тест"
   ]
  },
  {
   "cell_type": "code",
   "execution_count": 227,
   "metadata": {},
   "outputs": [
    {
     "name": "stderr",
     "output_type": "stream",
     "text": [
      "100%|██████████| 10/10 [03:45<00:00, 22.53s/it]\n"
     ]
    }
   ],
   "source": [
    "X = data.drop(columns=['id', 'Exited', 'CustomerId', 'Geography'])\n",
    "y = data['Exited']\n",
    "cv_folds = KFold(n_splits=10, shuffle=True, random_state=42)\n",
    "\n",
    "l = []\n",
    "\n",
    "for (train_index, test_index) in tqdm(cv_folds.split(X), total=10):\n",
    "    X_train, y_train = X.iloc[train_index, :], y.iloc[train_index]\n",
    "    X_test, y_test = X.iloc[test_index, :], y.iloc[test_index]\n",
    "\n",
    "    model = RandomForestClassifier(\n",
    "        n_estimators=800, max_features='sqrt', n_jobs=-1)\n",
    "    model.fit(X_train, y_train)\n",
    "    probs = model.predict_proba(X_test)[:, 1]\n",
    "    l.append(roc_auc_score(y_test, probs))"
   ]
  },
  {
   "cell_type": "code",
   "execution_count": 228,
   "metadata": {},
   "outputs": [
    {
     "data": {
      "text/plain": [
       "0.8854292587945085"
      ]
     },
     "execution_count": 228,
     "metadata": {},
     "output_type": "execute_result"
    }
   ],
   "source": [
    "np.array(l).mean()"
   ]
  },
  {
   "cell_type": "markdown",
   "metadata": {},
   "source": [
    "# XGBoost тест"
   ]
  },
  {
   "cell_type": "code",
   "execution_count": 301,
   "metadata": {},
   "outputs": [
    {
     "name": "stderr",
     "output_type": "stream",
     "text": [
      "100%|██████████| 10/10 [00:20<00:00,  2.03s/it]\n"
     ]
    }
   ],
   "source": [
    "X = data.drop(columns=['id', 'Exited', 'CustomerId', 'Geography'])\n",
    "y = data['Exited']\n",
    "cv_folds = KFold(n_splits=10, shuffle=True, random_state=42)\n",
    "\n",
    "l = []\n",
    "\n",
    "for (train_index, test_index) in tqdm(cv_folds.split(X), total=10):\n",
    "    X_train, y_train = X.iloc[train_index, :], y.iloc[train_index]\n",
    "    X_test, y_test = X.iloc[test_index, :], y.iloc[test_index]\n",
    "\n",
    "    model = XGBClassifier(n_estimators=250, learning_rate=0.05, random_state=42,\n",
    "                          reg_lambda=0.2, reg_alpha=0.3, verbosity=0, n_jobs=-1)\n",
    "    model.fit(X_train, y_train)\n",
    "    probs = model.predict_proba(X_test)[:, 1]\n",
    "    l.append(roc_auc_score(y_test, probs))"
   ]
  },
  {
   "cell_type": "code",
   "execution_count": 303,
   "metadata": {},
   "outputs": [
    {
     "data": {
      "text/plain": [
       "0.8933781546479184"
      ]
     },
     "execution_count": 303,
     "metadata": {},
     "output_type": "execute_result"
    }
   ],
   "source": [
    "np.array(l).mean()"
   ]
  },
  {
   "cell_type": "markdown",
   "metadata": {},
   "source": [
    "# General model ensambling"
   ]
  },
  {
   "cell_type": "code",
   "execution_count": 308,
   "metadata": {},
   "outputs": [],
   "source": [
    "X = data.drop(columns=['id', 'Exited', 'CustomerId'])\n",
    "y = data['Exited']"
   ]
  },
  {
   "cell_type": "code",
   "execution_count": 330,
   "metadata": {},
   "outputs": [
    {
     "data": {
      "text/html": [
       "<div>\n",
       "<style scoped>\n",
       "    .dataframe tbody tr th:only-of-type {\n",
       "        vertical-align: middle;\n",
       "    }\n",
       "\n",
       "    .dataframe tbody tr th {\n",
       "        vertical-align: top;\n",
       "    }\n",
       "\n",
       "    .dataframe thead th {\n",
       "        text-align: right;\n",
       "    }\n",
       "</style>\n",
       "<table border=\"1\" class=\"dataframe\">\n",
       "  <thead>\n",
       "    <tr style=\"text-align: right;\">\n",
       "      <th></th>\n",
       "      <th>0</th>\n",
       "      <th>1</th>\n",
       "      <th>2</th>\n",
       "    </tr>\n",
       "  </thead>\n",
       "  <tbody>\n",
       "    <tr>\n",
       "      <th>0</th>\n",
       "      <td>0.5</td>\n",
       "      <td>0.5</td>\n",
       "      <td>0.5</td>\n",
       "    </tr>\n",
       "    <tr>\n",
       "      <th>1</th>\n",
       "      <td>0.5</td>\n",
       "      <td>0.5</td>\n",
       "      <td>0.5</td>\n",
       "    </tr>\n",
       "    <tr>\n",
       "      <th>2</th>\n",
       "      <td>0.5</td>\n",
       "      <td>0.5</td>\n",
       "      <td>0.5</td>\n",
       "    </tr>\n",
       "    <tr>\n",
       "      <th>3</th>\n",
       "      <td>0.5</td>\n",
       "      <td>0.5</td>\n",
       "      <td>0.5</td>\n",
       "    </tr>\n",
       "    <tr>\n",
       "      <th>4</th>\n",
       "      <td>0.5</td>\n",
       "      <td>0.5</td>\n",
       "      <td>0.5</td>\n",
       "    </tr>\n",
       "    <tr>\n",
       "      <th>...</th>\n",
       "      <td>...</td>\n",
       "      <td>...</td>\n",
       "      <td>...</td>\n",
       "    </tr>\n",
       "    <tr>\n",
       "      <th>165029</th>\n",
       "      <td>0.5</td>\n",
       "      <td>0.5</td>\n",
       "      <td>0.5</td>\n",
       "    </tr>\n",
       "    <tr>\n",
       "      <th>165030</th>\n",
       "      <td>0.5</td>\n",
       "      <td>0.5</td>\n",
       "      <td>0.5</td>\n",
       "    </tr>\n",
       "    <tr>\n",
       "      <th>165031</th>\n",
       "      <td>0.5</td>\n",
       "      <td>0.5</td>\n",
       "      <td>0.5</td>\n",
       "    </tr>\n",
       "    <tr>\n",
       "      <th>165032</th>\n",
       "      <td>0.5</td>\n",
       "      <td>0.5</td>\n",
       "      <td>0.5</td>\n",
       "    </tr>\n",
       "    <tr>\n",
       "      <th>165033</th>\n",
       "      <td>0.5</td>\n",
       "      <td>0.5</td>\n",
       "      <td>0.5</td>\n",
       "    </tr>\n",
       "  </tbody>\n",
       "</table>\n",
       "<p>165034 rows × 3 columns</p>\n",
       "</div>"
      ],
      "text/plain": [
       "          0    1    2\n",
       "0       0.5  0.5  0.5\n",
       "1       0.5  0.5  0.5\n",
       "2       0.5  0.5  0.5\n",
       "3       0.5  0.5  0.5\n",
       "4       0.5  0.5  0.5\n",
       "...     ...  ...  ...\n",
       "165029  0.5  0.5  0.5\n",
       "165030  0.5  0.5  0.5\n",
       "165031  0.5  0.5  0.5\n",
       "165032  0.5  0.5  0.5\n",
       "165033  0.5  0.5  0.5\n",
       "\n",
       "[165034 rows x 3 columns]"
      ]
     },
     "execution_count": 330,
     "metadata": {},
     "output_type": "execute_result"
    }
   ],
   "source": [
    "expit(X.drop(columns=['Geography']) @ np.zeros((13, 3)))"
   ]
  },
  {
   "cell_type": "code",
   "execution_count": 5,
   "metadata": {},
   "outputs": [],
   "source": [
    "def get_model(cls, class_params, X, y, exclude, weights, train_index, n, offset, fit_params={}):\n",
    "    X_train, y_train = X.drop(\n",
    "        columns=exclude).iloc[train_index, :], y.iloc[train_index]\n",
    "\n",
    "    l = []\n",
    "    for model_number in range(n):\n",
    "        m = cls(**class_params)\n",
    "        m.fit(X_train, y_train,\n",
    "              #   sample_weight=weights[train_index, offset + model_number],\n",
    "              **fit_params)\n",
    "        l.append(m)\n",
    "\n",
    "    return l"
   ]
  },
  {
   "cell_type": "code",
   "execution_count": 6,
   "metadata": {},
   "outputs": [],
   "source": [
    "def get_model_probas(model, X, exclude):\n",
    "    X_real = X.drop(columns=exclude)\n",
    "    return model.predict_proba(X_real)[:, 1]"
   ]
  },
  {
   "cell_type": "code",
   "execution_count": 7,
   "metadata": {},
   "outputs": [],
   "source": [
    "def get_model_decision(model, X, exclude):\n",
    "    X_real = X.drop(columns=exclude)\n",
    "    return model.decision_function(X_real)[:, 1]"
   ]
  },
  {
   "cell_type": "code",
   "execution_count": 5,
   "metadata": {},
   "outputs": [],
   "source": [
    "cv_auc_mean = []\n",
    "cv_auc_xgboost = []"
   ]
  },
  {
   "cell_type": "code",
   "execution_count": 389,
   "metadata": {},
   "outputs": [
    {
     "name": "stderr",
     "output_type": "stream",
     "text": [
      "ME-cycle: 100%|██████████| 1/1 [10:59<00:00, 659.77s/it]\n",
      "ME-cycle: 100%|██████████| 1/1 [10:43<00:00, 643.07s/it]\n",
      "ME-cycle: 100%|██████████| 1/1 [10:33<00:00, 633.38s/it]\n",
      "ME-cycle: 100%|██████████| 1/1 [10:35<00:00, 635.58s/it]\n",
      "ME-cycle: 100%|██████████| 1/1 [10:29<00:00, 629.98s/it]\n",
      "main_cv: 100%|██████████| 5/5 [53:21<00:00, 640.36s/it]\n"
     ]
    }
   ],
   "source": [
    "X = data.drop(columns=['id', 'Exited', 'CustomerId'])\n",
    "y = data['Exited']\n",
    "cv_folds = KFold(n_splits=5, shuffle=True, random_state=42)\n",
    "\n",
    "N = 1\n",
    "n_lgbm = 35\n",
    "n_xgb = 35\n",
    "n_ctb = 30\n",
    "n_rf = 0\n",
    "\n",
    "# get alphas\n",
    "# lgbm_alphas = np.zeros((13, n_lgbm))\n",
    "# xgb_alphas = np.zeros((13, n_xgb))\n",
    "# ctb_alphas = np.zeros((11, n_ctb))\n",
    "# rf_alphas = np.zeros((13, n_rf))\n",
    "\n",
    "# get betas\n",
    "# lgbm_beta = 0\n",
    "# xgb_beta = 0\n",
    "# ctb_beta = 0\n",
    "# rf_beta = 0\n",
    "\n",
    "models_lgbm = []\n",
    "models_xgb = []\n",
    "models_ctb = []\n",
    "models_rf = []\n",
    "\n",
    "for batch_number, (train_index, test_index) in enumerate(tqdm(cv_folds.split(X), total=5, desc=f'main_cv')):\n",
    "    for _ in tqdm(range(N), desc=f'ME-cycle'):\n",
    "        models = []\n",
    "\n",
    "        # g = np.hstack([expit(X.drop(columns=['Geography']) @ lgbm_alphas + lgbm_beta),\n",
    "        #                        expit(X.drop(columns=['Geography'])\n",
    "        #                              @ xgb_alphas + xgb_beta),\n",
    "        #                        expit(X.drop(\n",
    "        #                            columns=['x0_France', 'x0_Germany', 'x0_Spain']) @ ctb_alphas + ctb_beta),\n",
    "        #                        expit(X.drop(columns=['Geography']) @ rf_alphas + rf_beta)])\n",
    "        g = None\n",
    "\n",
    "        # random_indexes = np.random.shuffle(glob_train_index)\n",
    "        # m_index, e_index = random_indexes[:int(0.8 * len(random_indexes))], random_indexes[int(0.8 * len(random_indexes)):]\n",
    "\n",
    "        # XGBoost block\n",
    "        l = get_model(XGBClassifier,\n",
    "                      {'n_estimators': 250, 'learning_rate': 0.05, 'random_state': batch_number,\n",
    "                       'reg_lambda': 0.2, 'reg_alpha': 0.3, 'verbosity': 0, 'n_jobs': -1,\n",
    "                       'subsample': 0.6},\n",
    "                      X, y, ['Geography'], g, train_index, n_xgb, n_lgbm)\n",
    "        models_xgb = l\n",
    "\n",
    "        # lightgbm block\n",
    "        l = get_model(LGBMClassifier,\n",
    "                      {'n_estimators': 200, 'max_depth': -1, 'reg_alpha': 0.2, 'reg_lambda': 0.3,\n",
    "                       'learning_rate': 0.1, 'random_state': batch_number, 'verbose': -1,\n",
    "                       'n_jobs': None, 'subsample': 0.6, 'tree_method': 'hist'},\n",
    "                      X, y, ['Geography'], g, train_index, n_lgbm, 0)\n",
    "        models_lgbm = l\n",
    "\n",
    "        # CatBoost block\n",
    "        models_ctb = []\n",
    "        l = get_model(CatBoostClassifier,\n",
    "                      {'iterations': 800, 'max_depth': 3, 'rsm': 0.6,\n",
    "                          'random_seed': batch_number, 'silent': True, 'bootstrap_type': 'Bayesian',\n",
    "                       },\n",
    "                      X, y, ['x0_France', 'x0_Germany', 'x0_Spain'],\n",
    "                      g, train_index, n_ctb//3, n_lgbm + n_xgb,\n",
    "                      fit_params={'cat_features': [\n",
    "                          'Geography', 'Gender', 'Tenure', 'NumOfProducts', 'HasCrCard', 'IsActiveMember']})\n",
    "        models_ctb += l\n",
    "        l = get_model(CatBoostClassifier,\n",
    "                      {'iterations': 800, 'max_depth': 5, 'rsm': 0.6,\n",
    "                          'random_seed': batch_number, 'silent': True, 'bootstrap_type': 'Bayesian',\n",
    "                       },\n",
    "                      X, y, ['x0_France', 'x0_Germany', 'x0_Spain'],\n",
    "                      g, train_index, n_ctb//3, n_lgbm + n_xgb,\n",
    "                      fit_params={'cat_features': [\n",
    "                          'Geography', 'Gender', 'Tenure', 'NumOfProducts', 'HasCrCard', 'IsActiveMember']})\n",
    "        models_ctb += l\n",
    "        l = get_model(CatBoostClassifier,\n",
    "                      {'iterations': 800, 'max_depth': 9, 'rsm': 0.6,\n",
    "                          'random_seed': batch_number, 'silent': True, 'bootstrap_type': 'Bayesian',\n",
    "                       },\n",
    "                      X, y, ['x0_France', 'x0_Germany', 'x0_Spain'],\n",
    "                      g, train_index, n_ctb//3, n_lgbm + n_xgb,\n",
    "                      fit_params={'cat_features': [\n",
    "                          'Geography', 'Gender', 'Tenure', 'NumOfProducts', 'HasCrCard', 'IsActiveMember']})\n",
    "        models_ctb += l\n",
    "\n",
    "        # Random Forest block\n",
    "        l = get_model(RandomForestClassifier,\n",
    "                      {'n_estimators': 800, 'max_features': 'sqrt', 'bootstrap': True, 'max_samples': 0.6,\n",
    "                       'n_jobs': -1, 'random_state': batch_number},\n",
    "                      X, y, ['Geography'], g, train_index, n_rf, n_lgbm + n_xgb + n_ctb)\n",
    "        models_rf = l\n",
    "\n",
    "        # print([get_model_probas(m, X.iloc[test_index], ['Geography']) for m in models_lgbm])\n",
    "        probs = np.mean(np.vstack([\n",
    "            *[get_model_probas(m, X.iloc[test_index], ['Geography'])\n",
    "              for m in models_lgbm],\n",
    "            *[get_model_probas(m, X.iloc[test_index], ['Geography'])\n",
    "              for m in models_xgb],\n",
    "            *[get_model_probas(m, X.iloc[test_index], ['x0_France',\n",
    "                               'x0_Germany', 'x0_Spain']) for m in models_ctb],\n",
    "            *[get_model_probas(m, X.iloc[test_index], ['Geography'])\n",
    "              for m in models_rf],\n",
    "        ]), axis=0)\n",
    "\n",
    "        cv_auc_mean.append(roc_auc_score(y.iloc[test_index], probs))"
   ]
  },
  {
   "cell_type": "code",
   "execution_count": 388,
   "metadata": {},
   "outputs": [
    {
     "name": "stdout",
     "output_type": "stream",
     "text": [
      "with random forest\n"
     ]
    },
    {
     "data": {
      "text/plain": [
       "0.8935112837440717"
      ]
     },
     "execution_count": 388,
     "metadata": {},
     "output_type": "execute_result"
    }
   ],
   "source": [
    "print('with random forest')\n",
    "np.array(cv_auc_mean).mean()"
   ]
  },
  {
   "cell_type": "code",
   "execution_count": 390,
   "metadata": {},
   "outputs": [
    {
     "name": "stdout",
     "output_type": "stream",
     "text": [
      "without random forest\n"
     ]
    },
    {
     "data": {
      "text/plain": [
       "0.8936130516893083"
      ]
     },
     "execution_count": 390,
     "metadata": {},
     "output_type": "execute_result"
    }
   ],
   "source": [
    "print('without random forest')\n",
    "np.array(cv_auc_mean).mean()"
   ]
  },
  {
   "cell_type": "markdown",
   "metadata": {},
   "source": [
    "# Model Stacking"
   ]
  },
  {
   "cell_type": "code",
   "execution_count": 24,
   "metadata": {},
   "outputs": [
    {
     "name": "stderr",
     "output_type": "stream",
     "text": [
      "ME-cycle: 100%|██████████| 1/1 [11:11<00:00, 671.21s/it]\n",
      "ME-cycle: 100%|██████████| 1/1 [11:11<00:00, 671.69s/it]\n",
      "ME-cycle: 100%|██████████| 1/1 [10:25<00:00, 625.66s/it]\n",
      "ME-cycle: 100%|██████████| 1/1 [10:09<00:00, 609.70s/it]\n",
      "ME-cycle: 100%|██████████| 1/1 [10:18<00:00, 618.50s/it]\n",
      "main_cv: 100%|██████████| 5/5 [53:16<00:00, 639.38s/it]\n"
     ]
    }
   ],
   "source": [
    "X = data.drop(columns=['id', 'Exited', 'CustomerId'])\n",
    "y = data['Exited']\n",
    "cv_folds = KFold(n_splits=5, shuffle=True, random_state=42)\n",
    "\n",
    "N = 1\n",
    "n_lgbm = 35\n",
    "n_xgb = 35\n",
    "n_ctb = 30\n",
    "n_rf = 0\n",
    "\n",
    "cv_auc_stacking = []\n",
    "\n",
    "# get alphas\n",
    "# lgbm_alphas = np.zeros((13, n_lgbm))\n",
    "# xgb_alphas = np.zeros((13, n_xgb))\n",
    "# ctb_alphas = np.zeros((11, n_ctb))\n",
    "# rf_alphas = np.zeros((13, n_rf))\n",
    "\n",
    "# get betas\n",
    "# lgbm_beta = 0\n",
    "# xgb_beta = 0\n",
    "# ctb_beta = 0\n",
    "# rf_beta = 0\n",
    "\n",
    "models_lgbm = []\n",
    "models_xgb = []\n",
    "models_ctb = []\n",
    "models_rf = []\n",
    "\n",
    "for batch_number, (train_index, test_index) in enumerate(tqdm(cv_folds.split(X), total=5, desc=f'main_cv')):\n",
    "    for _ in tqdm(range(N), desc=f'ME-cycle'):\n",
    "        models = []\n",
    "\n",
    "        # g = np.hstack([expit(X.drop(columns=['Geography']) @ lgbm_alphas + lgbm_beta),\n",
    "        #                        expit(X.drop(columns=['Geography'])\n",
    "        #                              @ xgb_alphas + xgb_beta),\n",
    "        #                        expit(X.drop(\n",
    "        #                            columns=['x0_France', 'x0_Germany', 'x0_Spain']) @ ctb_alphas + ctb_beta),\n",
    "        #                        expit(X.drop(columns=['Geography']) @ rf_alphas + rf_beta)])\n",
    "        g = None\n",
    "\n",
    "        np.random.shuffle(train_index)\n",
    "        m_index, e_index = train_index[:int(\n",
    "            0.8 * len(train_index))], train_index[int(0.8 * len(train_index)):]\n",
    "\n",
    "        # XGBoost block\n",
    "        l = get_model(XGBClassifier,\n",
    "                      {'n_estimators': 250, 'learning_rate': 0.05, 'random_state': batch_number,\n",
    "                       'reg_lambda': 0.2, 'reg_alpha': 0.3, 'verbosity': 0, 'n_jobs': -1,\n",
    "                       'subsample': 0.6},\n",
    "                      X, y, ['Geography'], g, m_index, n_xgb, n_lgbm)\n",
    "        models_xgb = l\n",
    "\n",
    "        # lightgbm block\n",
    "        l = get_model(LGBMClassifier,\n",
    "                      {'n_estimators': 200, 'max_depth': -1, 'reg_alpha': 0.2, 'reg_lambda': 0.3,\n",
    "                       'learning_rate': 0.1, 'random_state': batch_number, 'verbose': -1,\n",
    "                       'n_jobs': None, 'subsample': 0.6, 'tree_method': 'hist'},\n",
    "                      X, y, ['Geography'], g, m_index, n_lgbm, 0)\n",
    "        models_lgbm = l\n",
    "\n",
    "        # CatBoost block\n",
    "        models_ctb = []\n",
    "        l = get_model(CatBoostClassifier,\n",
    "                      {'iterations': 800, 'max_depth': 3, 'rsm': 0.6,\n",
    "                          'random_seed': batch_number, 'silent': True, 'bootstrap_type': 'Bayesian',\n",
    "                       },\n",
    "                      X, y, ['x0_France', 'x0_Germany', 'x0_Spain'],\n",
    "                      g, m_index, n_ctb//3, n_lgbm + n_xgb,\n",
    "                      fit_params={'cat_features': [\n",
    "                          'Geography', 'Gender', 'Tenure', 'NumOfProducts', 'HasCrCard', 'IsActiveMember']})\n",
    "        models_ctb += l\n",
    "        l = get_model(CatBoostClassifier,\n",
    "                      {'iterations': 800, 'max_depth': 5, 'rsm': 0.6,\n",
    "                          'random_seed': batch_number, 'silent': True, 'bootstrap_type': 'Bayesian',\n",
    "                       },\n",
    "                      X, y, ['x0_France', 'x0_Germany', 'x0_Spain'],\n",
    "                      g, m_index, n_ctb//3, n_lgbm + n_xgb,\n",
    "                      fit_params={'cat_features': [\n",
    "                          'Geography', 'Gender', 'Tenure', 'NumOfProducts', 'HasCrCard', 'IsActiveMember']})\n",
    "        models_ctb += l\n",
    "        l = get_model(CatBoostClassifier,\n",
    "                      {'iterations': 800, 'max_depth': 9, 'rsm': 0.6,\n",
    "                          'random_seed': batch_number, 'silent': True, 'bootstrap_type': 'Bayesian',\n",
    "                       },\n",
    "                      X, y, ['x0_France', 'x0_Germany', 'x0_Spain'],\n",
    "                      g, m_index, n_ctb//3, n_lgbm + n_xgb,\n",
    "                      fit_params={'cat_features': [\n",
    "                          'Geography', 'Gender', 'Tenure', 'NumOfProducts', 'HasCrCard', 'IsActiveMember']})\n",
    "        models_ctb += l\n",
    "\n",
    "        # Random Forest block\n",
    "        l = get_model(RandomForestClassifier,\n",
    "                      {'n_estimators': 800, 'max_features': 'sqrt', 'bootstrap': True, 'max_samples': 0.6,\n",
    "                       'n_jobs': -1, 'random_state': batch_number},\n",
    "                      X, y, ['Geography'], g, m_index, n_rf, n_lgbm + n_xgb + n_ctb)\n",
    "        models_rf = l\n",
    "\n",
    "        # E-step\n",
    "\n",
    "        probs = np.vstack([\n",
    "            *[get_model_probas(m, X.iloc[e_index], ['Geography'])\n",
    "              for m in models_lgbm],\n",
    "            *[get_model_probas(m, X.iloc[e_index], ['Geography'])\n",
    "              for m in models_xgb],\n",
    "            *[get_model_probas(m, X.iloc[e_index], ['x0_France',\n",
    "                               'x0_Germany', 'x0_Spain']) for m in models_ctb],\n",
    "            *[get_model_probas(m, X.iloc[e_index], ['Geography'])\n",
    "              for m in models_rf],\n",
    "        ])\n",
    "\n",
    "        model_stack = LogisticRegression(n_jobs=-1)\n",
    "        model_stack.fit(probs.T, y.iloc[e_index])\n",
    "\n",
    "        # test\n",
    "\n",
    "        probs = np.vstack([\n",
    "            *[get_model_probas(m, X.iloc[test_index], ['Geography'])\n",
    "              for m in models_lgbm],\n",
    "            *[get_model_probas(m, X.iloc[test_index], ['Geography'])\n",
    "              for m in models_xgb],\n",
    "            *[get_model_probas(m, X.iloc[test_index], ['x0_France',\n",
    "                               'x0_Germany', 'x0_Spain']) for m in models_ctb],\n",
    "            *[get_model_probas(m, X.iloc[test_index], ['Geography'])\n",
    "              for m in models_rf],\n",
    "        ])\n",
    "\n",
    "        answ = model_stack.predict_proba(probs.T)[:, 1]\n",
    "\n",
    "        cv_auc_stacking.append(roc_auc_score(y.iloc[test_index], answ))"
   ]
  },
  {
   "cell_type": "code",
   "execution_count": 31,
   "metadata": {},
   "outputs": [
    {
     "name": "stdout",
     "output_type": "stream",
     "text": [
      "with post sgboost stacking\n"
     ]
    },
    {
     "data": {
      "text/plain": [
       "0.8936935517613189"
      ]
     },
     "execution_count": 31,
     "metadata": {},
     "output_type": "execute_result"
    }
   ],
   "source": [
    "print('with post sgboost stacking')\n",
    "np.array(cv_auc_stacking).mean()"
   ]
  },
  {
   "cell_type": "code",
   "execution_count": 29,
   "metadata": {},
   "outputs": [
    {
     "data": {
      "text/plain": [
       "<Axes: >"
      ]
     },
     "execution_count": 29,
     "metadata": {},
     "output_type": "execute_result"
    },
    {
     "data": {
      "image/png": "[encoded data removed]",
      "text/plain": [
       "<Figure size 640x480 with 1 Axes>"
      ]
     },
     "metadata": {},
     "output_type": "display_data"
    }
   ],
   "source": [
    "sns.lineplot(cv_auc_stacking)"
   ]
  },
  {
   "cell_type": "markdown",
   "metadata": {},
   "source": [
    "# Mixture of Experts (ME алгоритм)"
   ]
  },
  {
   "cell_type": "code",
   "execution_count": 10,
   "metadata": {},
   "outputs": [
    {
     "ename": "NameError",
     "evalue": "name 'probs' is not defined",
     "output_type": "error",
     "traceback": [
      "\u001b[0;31m---------------------------------------------------------------------------\u001b[0m",
      "\u001b[0;31mNameError\u001b[0m                                 Traceback (most recent call last)",
      "Cell \u001b[0;32mIn[10], line 8\u001b[0m\n\u001b[1;32m      4\u001b[0m X \u001b[38;5;241m=\u001b[39m torch\u001b[38;5;241m.\u001b[39mtensor(data\u001b[38;5;241m.\u001b[39mdrop(columns\u001b[38;5;241m=\u001b[39m[\n\u001b[1;32m      5\u001b[0m                  \u001b[38;5;124m'\u001b[39m\u001b[38;5;124mid\u001b[39m\u001b[38;5;124m'\u001b[39m, \u001b[38;5;124m'\u001b[39m\u001b[38;5;124mExited\u001b[39m\u001b[38;5;124m'\u001b[39m, \u001b[38;5;124m'\u001b[39m\u001b[38;5;124mCustomerId\u001b[39m\u001b[38;5;124m'\u001b[39m, \u001b[38;5;124m'\u001b[39m\u001b[38;5;124mGeography\u001b[39m\u001b[38;5;124m'\u001b[39m])\u001b[38;5;241m.\u001b[39mto_numpy()[:\u001b[38;5;241m10\u001b[39m])\u001b[38;5;241m.\u001b[39mtype(torch\u001b[38;5;241m.\u001b[39mfloat64)\n\u001b[1;32m      6\u001b[0m y \u001b[38;5;241m=\u001b[39m torch\u001b[38;5;241m.\u001b[39mtensor(data[\u001b[38;5;124m'\u001b[39m\u001b[38;5;124mExited\u001b[39m\u001b[38;5;124m'\u001b[39m]\u001b[38;5;241m.\u001b[39mastype(\n\u001b[1;32m      7\u001b[0m     \u001b[38;5;28mfloat\u001b[39m)\u001b[38;5;241m.\u001b[39mto_numpy()[:\u001b[38;5;241m10\u001b[39m])\u001b[38;5;241m.\u001b[39mtype(torch\u001b[38;5;241m.\u001b[39mfloat64)\n\u001b[0;32m----> 8\u001b[0m b \u001b[38;5;241m=\u001b[39m torch\u001b[38;5;241m.\u001b[39mtensor(\u001b[43mprobs\u001b[49m[:\u001b[38;5;241m5\u001b[39m, :\u001b[38;5;241m10\u001b[39m])\u001b[38;5;241m.\u001b[39mtype(torch\u001b[38;5;241m.\u001b[39mfloat64)\u001b[38;5;241m.\u001b[39mT\n\u001b[1;32m     10\u001b[0m alphas \u001b[38;5;241m=\u001b[39m torch\u001b[38;5;241m.\u001b[39mones((n, \u001b[38;5;241m13\u001b[39m))\n\u001b[1;32m     11\u001b[0m betas \u001b[38;5;241m=\u001b[39m torch\u001b[38;5;241m.\u001b[39mones((n, \u001b[38;5;241m1\u001b[39m))\n",
      "\u001b[0;31mNameError\u001b[0m: name 'probs' is not defined"
     ]
    }
   ],
   "source": [
    "gamma = 1\n",
    "lr = 0.1\n",
    "n = 5\n",
    "X = torch.tensor(data.drop(columns=[\n",
    "                 'id', 'Exited', 'CustomerId', 'Geography']).to_numpy()[:10]).type(torch.float64)\n",
    "y = torch.tensor(data['Exited'].astype(\n",
    "    float).to_numpy()[:10]).type(torch.float64)\n",
    "b = torch.tensor(probs[:5, :10]).type(torch.float64).T\n",
    "\n",
    "alphas = torch.ones((n, 13))\n",
    "betas = torch.ones((n, 1))\n",
    "\n",
    "init_g = torch.exp(- betas *\n",
    "                   torch.norm(alphas[:, :, None] - X.T[None, :, :], dim=1))\n",
    "g = torch.exp(gamma * init_g).T\n",
    "sum_g = torch.sum(g, dim=1)\n",
    "sm = g / sum_g[:, None]\n",
    "\n",
    "sigmoid = (1 - torch.sigmoid(-(y * 2 - 1) * torch.sum(sm * b, dim=1)))\n",
    "model_weighted = (b / sum_g[:, None]) / \\\n",
    "    (torch.sum(b * g, dim=1) / sum_g)[:, None]\n",
    "\n",
    "alpha_grad_coef = -torch.sum((y[:, None] * 2 - 1) * sigmoid[:, None]\n",
    "                             * model_weighted * g, dim=0) * betas.T * gamma\n",
    "alpha_grad = alpha_grad_coef.T * \\\n",
    "    torch.sum((X.T[None, :, :] - alphas[:, :, None]), dim=2)\n",
    "alphas -= lr * alpha_grad\n",
    "\n",
    "beta_grad_coef = -torch.sum((y[:, None] * 2 - 1) * sigmoid[:, None] * model_weighted *\n",
    "                            g * torch.norm((X.T[None, :, :] - alphas[:, :, None]), dim=1).T ** 2, dim=0) * gamma\n",
    "betas -= (lr * beta_grad_coef).reshape((-1, 1))"
   ]
  },
  {
   "cell_type": "code",
   "execution_count": 494,
   "metadata": {},
   "outputs": [
    {
     "data": {
      "text/plain": [
       "(torch.Size([1, 13, 10]), torch.Size([10]), torch.Size([10, 5]))"
      ]
     },
     "execution_count": 494,
     "metadata": {},
     "output_type": "execute_result"
    }
   ],
   "source": [
    "X.T[None, :, :].shape, y.shape, b.shape"
   ]
  },
  {
   "cell_type": "code",
   "execution_count": 487,
   "metadata": {},
   "outputs": [
    {
     "data": {
      "text/plain": [
       "torch.Size([10, 5])"
      ]
     },
     "execution_count": 487,
     "metadata": {},
     "output_type": "execute_result"
    }
   ],
   "source": [
    "sm.shape"
   ]
  },
  {
   "cell_type": "code",
   "execution_count": 4,
   "metadata": {},
   "outputs": [],
   "source": [
    "def get_model(cls, class_params, X, y, exclude, weights, train_index, n, offset, fit_params={}):\n",
    "    X_train, y_train = X.drop(\n",
    "        columns=exclude).iloc[train_index, :], y.iloc[train_index]\n",
    "    l = []\n",
    "    for model_number in range(n):\n",
    "        m = cls(**class_params)\n",
    "        m.fit(X_train, y_train,\n",
    "              sample_weight=weights[:, offset + model_number],\n",
    "              **fit_params)\n",
    "        l.append(m)\n",
    "\n",
    "    return l\n",
    "\n",
    "\n",
    "def get_model_probas(model, X, exclude):\n",
    "    X_real = X.drop(columns=exclude)\n",
    "    return model.predict_proba(X_real)[:, 1]\n",
    "\n",
    "\n",
    "def get_model_decision(model, X, exclude):\n",
    "    X_real = X.drop(columns=exclude)\n",
    "    return model.decision_function(X_real)[:, 1]"
   ]
  },
  {
   "cell_type": "code",
   "execution_count": 9,
   "metadata": {},
   "outputs": [
    {
     "data": {
      "text/plain": [
       "torch.Size([5, 13, 105621])"
      ]
     },
     "execution_count": 9,
     "metadata": {},
     "output_type": "execute_result"
    }
   ],
   "source": [
    "(alphas[:, :, None] * X_sampler.T[None, :, m_index]).shape"
   ]
  },
  {
   "cell_type": "code",
   "execution_count": 52,
   "metadata": {},
   "outputs": [],
   "source": [
    "jjj = []"
   ]
  },
  {
   "cell_type": "code",
   "execution_count": 53,
   "metadata": {},
   "outputs": [
    {
     "name": "stderr",
     "output_type": "stream",
     "text": [
      "main_cv:   0%|          | 0/5 [00:00<?, ?it/s]"
     ]
    },
    {
     "name": "stderr",
     "output_type": "stream",
     "text": [
      "ME-cycle:  33%|███▎      | 5/15 [00:06<00:12,  1.25s/it]\n",
      "ME-cycle:  33%|███▎      | 5/15 [00:06<00:12,  1.22s/it]\n",
      "ME-cycle:  33%|███▎      | 5/15 [00:05<00:11,  1.19s/it]\n",
      "ME-cycle:  33%|███▎      | 5/15 [00:06<00:12,  1.20s/it]\n",
      "ME-cycle:  33%|███▎      | 5/15 [00:06<00:12,  1.22s/it]\n",
      "main_cv: 100%|██████████| 5/5 [00:30<00:00,  6.13s/it]\n"
     ]
    }
   ],
   "source": [
    "X = data.drop(columns=['id', 'Exited', 'CustomerId'])\n",
    "y = data['Exited']\n",
    "\n",
    "X_sampler = torch.tensor(\n",
    "    X.drop(columns=['Geography']).to_numpy()).type(torch.float64)\n",
    "y_sampler = torch.tensor(y.astype(\n",
    "    float).to_numpy()).type(torch.float64)\n",
    "\n",
    "cv_folds = KFold(n_splits=5, shuffle=True, random_state=42)\n",
    "\n",
    "N = 5\n",
    "E = 30\n",
    "gamma = 1\n",
    "\n",
    "n_lgbm = 5\n",
    "n_xgb = 0\n",
    "n_ctb = 0\n",
    "n_rf = 0\n",
    "\n",
    "lr = 0.1\n",
    "\n",
    "models_lgbm = []\n",
    "models_xgb = []\n",
    "models_ctb = []\n",
    "models_rf = []\n",
    "\n",
    "cv_mean_em = []\n",
    "\n",
    "for batch_number, (train_index, test_index) in enumerate(tqdm(cv_folds.split(X), total=5, desc=f'main_cv')):\n",
    "    alphas = torch.ones((n_lgbm + n_xgb + n_ctb + n_rf, 13))\n",
    "    betas = torch.ones((n_lgbm + n_xgb + n_ctb + n_rf, 1))\n",
    "\n",
    "    for _ in tqdm(range(N), desc=f'ME-cycle', total=15):\n",
    "        models_lgbm = []\n",
    "        models_xgb = []\n",
    "        models_ctb = []\n",
    "        models_rf = []\n",
    "\n",
    "        # getting subsamples\n",
    "        np.random.shuffle(train_index)\n",
    "        m_index, e_index = train_index[:int(\n",
    "            0.8 * len(train_index))], train_index[int(0.8 * len(train_index)):]\n",
    "\n",
    "        # getting weights of objevts\n",
    "        init_g = torch.sigmoid(\n",
    "            torch.sum(alphas[:, :, None] * X_sampler.T[None, :, m_index], dim=1) + betas)\n",
    "        g = torch.exp(gamma * init_g).T\n",
    "        sum_g = torch.sum(g, dim=1)\n",
    "        sm = g / sum_g[:, None]\n",
    "\n",
    "        # M-step\n",
    "\n",
    "        # XGBoost block\n",
    "        l = get_model(XGBClassifier,\n",
    "                      {'n_estimators': 150, 'learning_rate': 0.05, 'random_state': batch_number,\n",
    "                       'reg_lambda': 0.3, 'reg_alpha': 0.4, 'verbosity': 0, 'n_jobs': -1,\n",
    "                       'subsample': 0.6},\n",
    "                      X, y, ['Geography'], np.array(sm), m_index, n_xgb, 0,\n",
    "                      )\n",
    "        models_xgb = l\n",
    "\n",
    "        # lightgbm block\n",
    "        l = get_model(LGBMClassifier,\n",
    "                      {'n_estimators': 5, 'max_depth': -1, 'reg_alpha': 0.2, 'reg_lambda': 0.3,\n",
    "                       'learning_rate': 0.1, 'random_state': batch_number, 'verbose': -1,\n",
    "                       'n_jobs': None, 'subsample': 0.6, 'tree_method': 'hist'},\n",
    "                      X, y, ['Geography'], np.array(sm), m_index, n_lgbm, n_xgb)\n",
    "        models_lgbm = l\n",
    "\n",
    "        # CatBoost block\n",
    "        models_ctb = []\n",
    "        l = get_model(CatBoostClassifier,\n",
    "                      {'iterations': 800, 'max_depth': 3, 'rsm': 0.6,\n",
    "                          'random_seed': batch_number, 'silent': True, 'bootstrap_type': 'Bayesian',\n",
    "                       },\n",
    "                      X, y, ['x0_France', 'x0_Germany', 'x0_Spain'],\n",
    "                      np.array(sm), m_index, n_ctb//3, n_lgbm + n_xgb,\n",
    "                      fit_params={'cat_features': [\n",
    "                          'Geography', 'Gender', 'Tenure', 'NumOfProducts', 'HasCrCard', 'IsActiveMember']})\n",
    "        models_ctb += l\n",
    "        l = get_model(CatBoostClassifier,\n",
    "                      {'iterations': 800, 'max_depth': 5, 'rsm': 0.6,\n",
    "                          'random_seed': batch_number, 'silent': True, 'bootstrap_type': 'Bayesian',\n",
    "                       },\n",
    "                      X, y, ['x0_France', 'x0_Germany', 'x0_Spain'],\n",
    "                      np.array(sm), m_index, n_ctb//3, n_lgbm +\n",
    "                      n_xgb + n_ctb//3,\n",
    "                      fit_params={'cat_features': [\n",
    "                          'Geography', 'Gender', 'Tenure', 'NumOfProducts', 'HasCrCard', 'IsActiveMember']})\n",
    "        models_ctb += l\n",
    "        l = get_model(CatBoostClassifier,\n",
    "                      {'iterations': 800, 'max_depth': 9, 'rsm': 0.6,\n",
    "                          'random_seed': batch_number, 'silent': True, 'bootstrap_type': 'Bayesian',\n",
    "                       },\n",
    "                      X, y, ['x0_France', 'x0_Germany', 'x0_Spain'],\n",
    "                      np.array(sm), m_index, n_ctb//3, n_lgbm +\n",
    "                      n_xgb + (n_ctb//3) * 2,\n",
    "                      fit_params={'cat_features': [\n",
    "                          'Geography', 'Gender', 'Tenure', 'NumOfProducts', 'HasCrCard', 'IsActiveMember']})\n",
    "        models_ctb += l\n",
    "\n",
    "        # Random Forest block\n",
    "        l = get_model(RandomForestClassifier,\n",
    "                      {'n_estimators': 800, 'max_features': 'sqrt', 'bootstrap': True, 'max_samples': 0.6,\n",
    "                       'n_jobs': -1, 'random_state': batch_number},\n",
    "                      X, y, ['Geography'], np.array(sm), m_index, n_rf, n_lgbm + n_xgb + (n_ctb//3) * 3)\n",
    "        models_rf = l\n",
    "\n",
    "        # E-step\n",
    "\n",
    "        b = torch.tensor(np.vstack([\n",
    "            *[get_model_probas(m, X.iloc[e_index], ['Geography'])\n",
    "              for m in models_lgbm],\n",
    "            *[get_model_probas(m, X.iloc[e_index], ['Geography'])\n",
    "              for m in models_xgb],\n",
    "            *[get_model_probas(m, X.iloc[e_index], ['x0_France',\n",
    "                               'x0_Germany', 'x0_Spain']) for m in models_ctb],\n",
    "            *[get_model_probas(m, X.iloc[e_index], ['Geography'])\n",
    "              for m in models_rf],\n",
    "        ])).T\n",
    "\n",
    "        delta = 100\n",
    "        for _ in range(100):\n",
    "            init_g = torch.sigmoid(\n",
    "                torch.sum(alphas[:, :, None] * X_sampler.T[None, :, e_index], dim=1) + betas)\n",
    "            g = torch.exp(gamma * init_g).T\n",
    "            sum_g = torch.sum(g, dim=1)\n",
    "            sm = g / sum_g[:, None]\n",
    "\n",
    "            sigmoid = (\n",
    "                1 - torch.sigmoid(-(y_sampler[e_index] * 2 - 1) * torch.sum(sm * b, dim=1)))\n",
    "            model_weighted = (b / sum_g[:, None]) / \\\n",
    "                (torch.sum(b * g, dim=1) / sum_g)[:, None]\n",
    "\n",
    "            alpha_grad = -torch.sum((((y_sampler[e_index, None] * 2 - 1) * sigmoid[:, None] *\n",
    "                                      model_weighted * (init_g ** 2).T).T).reshape(5, -1, 1) * X_sampler[None, e_index, :], dim=1) * gamma + alphas\n",
    "            alphas -= lr * alpha_grad\n",
    "\n",
    "            beta_grad = -torch.sum((((y_sampler[e_index, None] * 2 - 1) * sigmoid[:, None] *\n",
    "                                     model_weighted * (init_g ** 2).T).T).reshape(5, -1, 1), dim=1) * gamma\n",
    "            betas -= (lr * beta_grad)\n",
    "\n",
    "    # test\n",
    "    init_g = torch.sigmoid(torch.sum(\n",
    "        alphas[:, :, None] * X_sampler.T[None, :, test_index], dim=1) + betas)\n",
    "    g = torch.exp(gamma * init_g).T\n",
    "    sum_g = torch.sum(g, dim=1)\n",
    "    sm = g / sum_g[:, None]\n",
    "\n",
    "    b = torch.tensor(np.vstack([\n",
    "        *[get_model_probas(m, X.iloc[test_index], ['Geography'])\n",
    "          for m in models_lgbm],\n",
    "        *[get_model_probas(m, X.iloc[test_index], ['Geography'])\n",
    "          for m in models_xgb],\n",
    "        *[get_model_probas(m, X.iloc[test_index], ['x0_France',\n",
    "                                                   'x0_Germany', 'x0_Spain']) for m in models_ctb],\n",
    "        *[get_model_probas(m, X.iloc[test_index], ['Geography'])\n",
    "          for m in models_rf],\n",
    "    ])).T\n",
    "    answ = torch.sum(b * sm, dim=1)\n",
    "\n",
    "    cv_mean_em.append(roc_auc_score(y.iloc[test_index], answ))"
   ]
  },
  {
   "cell_type": "code",
   "execution_count": 40,
   "metadata": {},
   "outputs": [
    {
     "data": {
      "text/plain": [
       "torch.Size([5, 1])"
      ]
     },
     "execution_count": 40,
     "metadata": {},
     "output_type": "execute_result"
    }
   ],
   "source": [
    "torch.sum((((y_sampler[e_index, None] * 2 - 1) * sigmoid[:, None] *\n",
    "            model_weighted * (init_g ** 2).T).T).reshape(5, -1, 1), dim=1).shape"
   ]
  },
  {
   "cell_type": "code",
   "execution_count": 34,
   "metadata": {},
   "outputs": [
    {
     "data": {
      "text/plain": [
       "torch.Size([5, 13])"
      ]
     },
     "execution_count": 34,
     "metadata": {},
     "output_type": "execute_result"
    }
   ],
   "source": [
    "alphas.shape"
   ]
  },
  {
   "cell_type": "code",
   "execution_count": 54,
   "metadata": {},
   "outputs": [
    {
     "data": {
      "text/plain": [
       "0.21380945593315964"
      ]
     },
     "execution_count": 54,
     "metadata": {},
     "output_type": "execute_result"
    }
   ],
   "source": [
    "np.array(jjj).mean()"
   ]
  },
  {
   "cell_type": "code",
   "execution_count": 55,
   "metadata": {},
   "outputs": [
    {
     "data": {
      "text/plain": [
       "0.8810045826455543"
      ]
     },
     "execution_count": 55,
     "metadata": {},
     "output_type": "execute_result"
    }
   ],
   "source": [
    "np.array(cv_mean_em).mean()"
   ]
  }
 ],
 "metadata": {
  "kernelspec": {
   "display_name": "Binary_Classification_4-1-VzDaJ6La",
   "language": "python",
   "name": "python3"
  },
  "language_info": {
   "codemirror_mode": {
    "name": "ipython",
    "version": 3
   },
   "file_extension": ".py",
   "mimetype": "text/x-python",
   "name": "python",
   "nbconvert_exporter": "python",
   "pygments_lexer": "ipython3",
   "version": "3.11.5"
  }
 },
 "nbformat": 4,
 "nbformat_minor": 2
}
